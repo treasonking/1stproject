{
 "cells": [
  {
   "cell_type": "code",
   "execution_count": 2,
   "id": "f0048dd2",
   "metadata": {},
   "outputs": [
    {
     "name": "stdout",
     "output_type": "stream",
     "text": [
      "슈팅 4개 모두 유효슈팅 … 경기력 회복 긍정적\n",
      "손흥민의 득점 감각이 모처럼 살아났다.\n",
      "토트넘 홋스퍼도 손흥민의 멀티골 활약으로 2022~23 잉글랜드축구협회(FA)컵 16강에 진출했다.\n",
      "토트넘은 29일(한국시간) 영국 프레스턴의 딥데일에서 벌어진 프레스턴 노스 엔드와 2022~23 FA컵 4라운드(32강전) 원정경기에서 후반 5분과 24분에 연속골을 터뜨린 손흥민의 활약에 힘입어 3-0으로 이겼다.\n",
      "잉글랜드 프리미어리그(EPL)에서 4골, 유럽축구연맹(UEFA) 챔피언스리그에서 2골을 기록했던 손흥민은 FA컵에서 2골을 추가하며 올 시즌 8골을 넣었다.\n",
      "손흥민은 앞으로 2골만 추가하면 21골을 넣었던 지난 2016~17 시즌 이후 일곱 시즌 연속 두자리 득점을 기록하게 된다.\n",
      "손흥민은 비록 전반에 골을 터뜨리지 못했지만 활발한 움직임으로 여러 차례 프레스턴 골문을 정조준했다.\n",
      "손흥민은 수비벽을 두껍게 하는 프레스턴을 상대로 두 차례 날카로운 슈팅으로 위협했다. 상대 골키퍼의 선방에 막혔지만 전반 16분 날카로운 왼발 슈팅과 전반 25분 오른발 슈팅으로 공격을 주도했다.\n",
      "결국 손흥민은 후반 5분만에 그림과 같은 중거리포로 프레스턴의 골문을 열었다.\n",
      "오른쪽 측면에서 내준 자펫 탕강가의 패스를 받은 손흥민이 페널티지역 바깥쪽에서 강력한 왼발로 감아차는 슈팅을 때렸고 공은 그대로 왼쪽 골망을 흔들었다. 아크에서도 멀리 떨어진 지역이었기에 족히 30m 이상은 되어보이는 중거리 골이었다.\n",
      "손흥민의 장기인 감아차기 슈팅으로 선제골을 터뜨린 토트넘은 분위기를 잡았다.\n",
      "선제골을 허용한 프레스턴의 역습도 만만치 않았지만 불과 19분 뒤 손흥민이 이반 페리시치의 패스를 받아 골을 성공시켰다.\n",
      "페리시치의 패스를 받은 손흥민은 페널티지역 안쪽에서 수비 2명을 등지고 왼발 터닝 슈팅으로 멀티골을 성공시켰다.\n",
      "손흥민의 활약 속에 2골차 리드를 잡으면서 안토니오 콘테 감독은 곧바로 올리버 스킵과 에메르손 로얄을 비롯해 이번 겨울 이적시장에서 데려온 아르나우트 단주마를 투입했다.\n",
      "손흥민은 후반 40분 브라이언 힐과 교체돼 자신의 임무를 마쳤다.\n",
      "단주마는 후반 42분 데얀 쿨루스키의 어시스트를 받아 토트넘 데뷔전에서 골을 터뜨리며 팀의 대승을 완성했다.\n",
      "골 갈증을 푼 손흥민은 이날 득점 후 전매특허인 `찰칵 세리머니'를 선보이며 환하게 웃었다.\n",
      "득점뿐 아니라 경기력도 많이 올라온 모습이었다.\n",
      "이날 슈팅 4개를 기록했는데, 모두 상대 골문으로 향한 유효슈팅이었다. 그리고 이 중 2개를 골로 연결했다.\n",
      "/뉴시스\n"
     ]
    }
   ],
   "source": [
    "import trafilatura\n",
    "url2='https://www.cctimes.kr/news/articleView.html?idxno=737323'\n",
    "html2=trafilatura.fetch_url(url2)\n",
    "htmltext2=trafilatura.extract(html2)\n",
    "print(htmltext2)"
   ]
  },
  {
   "cell_type": "code",
   "execution_count": 14,
   "id": "b9ba9d0c",
   "metadata": {},
   "outputs": [
    {
     "name": "stdout",
     "output_type": "stream",
     "text": [
      "image1:https://search.pstatic.net/common/?src=http%3A%2F%2Fimgnews.naver.net%2Fimage%2F477%2F2024%2F06%2F08%2F0000494759_006_20240608145714308.jpg&type=a340\n",
      "image2:https://search.pstatic.net/common/?src=http%3A%2F%2Fimgnews.naver.net%2Fimage%2F448%2F2024%2F06%2F19%2F2024061990111_0_20240619152511512.jpg&type=a340\n"
     ]
    }
   ],
   "source": [
    "from selenium import webdriver\n",
    "from selenium.webdriver.common.by import By\n",
    "from selenium.webdriver.common.keys import Keys\n",
    "import time\n",
    "import requests\n",
    "\n",
    "driver2=webdriver.Chrome()\n",
    "\n",
    "url2=f'https://search.naver.com/search.naver?where=image&query=손흥민'\n",
    "driver2.get(url2)\n",
    "time.sleep(3)\n",
    "\n",
    "image_links=driver2.find_elements(By.CSS_SELECTOR,\"._fe_image_tab_content_thumbnail_image\") \n",
    "\n",
    "for i,link in enumerate(image_links[:2]):\n",
    "    img_url=link.get_attribute(\"src\")\n",
    "    print(f\"image{i+1}:{img_url}\")\n",
    "    \n",
    "    with open(f\"손흥민_{i+1}.jpg\",\"wb\") as f2:\n",
    "        f2.write(requests.get(img_url).content)\n",
    "driver2.quit()"
   ]
  },
  {
   "cell_type": "code",
   "execution_count": 3,
   "id": "e3fa53a0",
   "metadata": {},
   "outputs": [
    {
     "name": "stdout",
     "output_type": "stream",
     "text": [
      "이강인, 50m 드리블골...한국 역사상 최초의 스페인 리그 멀티골 (+영상)\n",
      "한국 축구의 차기 에이스이자 스페인 프리메라리가에서 뛰는 이강인이 새역사를 썼다.\n",
      "[인사이트] 전준강 기자 = 스페인 프리메라리가에서 뛰는 이강인이 역사를 썼다.\n",
      "한국 출신 그 어떤 선수도 기록해본 적이 없는 기록을 써내며 자신이 왜 한국 축구대표팀의 차기 에이스인지 입증했다.\n",
      "24일(한국 시간) 스페인 마요르카의 에스타디 마요르카 손모익스에서는 2022-23시즌 스페인 프리메라리가(라리가) 30라운드 마요르카 vs 헤타페 경기가 열렸다.\n",
      "이날 경기에서 마요르카는 이강인의 '멀티골'에 힘입어 3대1로 승리했다.\n",
      "라리가 한국 선수 멀티골은 이강인이 처음이다. 그동안은 1경기 1득점만 있을 뿐이었지만, 이강인이 새역사를 썼다.\n",
      "3대1 승리에 힘입은 마요르카는 최근 리그에서 2연승 및 4경기 연속 무패(2승 2무)를 기록하면서 11승 7무 12패, 승점 40점이 됐다. 현재 리그 10위다.\n",
      "이강인은 0대1로 끌려가던 후반 11분, 동점골을 만들어냈다. 카를스 아레냐의 슈팅이 골키퍼를 맞고 흐르자 빠르게 달려들어 득점했다. 인자기급 위치선정이 빚어낸 값진 득점이었다.\n",
      "마요르카는 8분 뒤 역전에 성공했다. 코너킥 상황에서 나온 안토니오 라이요의 헤더골이 터진 것.\n",
      "이후 두 팀은 끊임없이 공방을 주고받았다. 경기 종료 직전 헤타페의 코너킥 상황에서 공이 흘러 나왔고, 이강인은 이를 몰고 약 60m 정도 단독드리블쇼를 펼쳤다.\n",
      "역습 과정에서 스피드가 죽지 않은 이강인은 패스를 선택하지 않고 강슛을 날리며 골망을 갈랐다.\n",
      "경기는 그대로 끝이났다. 팀의 3대1 승리를 이끈 이강인은 풋몹 평점 8.7점을 받았다. 라리가 공식 맨 오브 더 매치(Man Of The Match, MOM)에 선정됐다.\n"
     ]
    }
   ],
   "source": [
    "import trafilatura\n",
    "url2='https://www.insight.co.kr/news/436623'\n",
    "html2=trafilatura.fetch_url(url2)\n",
    "htmltext=trafilatura.extract(html2)\n",
    "print(htmltext)"
   ]
  },
  {
   "cell_type": "code",
   "execution_count": 15,
   "id": "d8e2d402",
   "metadata": {},
   "outputs": [
    {
     "name": "stdout",
     "output_type": "stream",
     "text": [
      "image1:https://search.pstatic.net/common/?src=http%3A%2F%2Fimgnews.naver.net%2Fimage%2F144%2F2024%2F03%2F10%2F0000948237_001_20240310225601296.jpg&type=a340\n",
      "image2:https://search.pstatic.net/common/?src=http%3A%2F%2Fimgnews.naver.net%2Fimage%2F477%2F2023%2F12%2F19%2F0000465010_003_20231219112803848.jpg&type=a340\n"
     ]
    }
   ],
   "source": [
    "from selenium import webdriver\n",
    "from selenium.webdriver.common.by import By\n",
    "from selenium.webdriver.common.keys import Keys\n",
    "import time\n",
    "import requests\n",
    "\n",
    "driver2=webdriver.Chrome()\n",
    "\n",
    "url2=f'https://search.naver.com/search.naver?where=image&query=이강인'\n",
    "driver2.get(url2)\n",
    "time.sleep(3)\n",
    "\n",
    "image_links=driver2.find_elements(By.CSS_SELECTOR,\"._fe_image_tab_content_thumbnail_image\") \n",
    "\n",
    "for i,link in enumerate(image_links[:2]):\n",
    "    img_url=link.get_attribute(\"src\")\n",
    "    print(f\"image{i+1}:{img_url}\")\n",
    "    \n",
    "    with open(f\"이강인_{i+1}.jpg\",\"wb\") as f2:\n",
    "        f2.write(requests.get(img_url).content)\n",
    "driver2.quit()"
   ]
  },
  {
   "cell_type": "code",
   "execution_count": 4,
   "id": "53927334",
   "metadata": {},
   "outputs": [
    {
     "name": "stdout",
     "output_type": "stream",
     "text": [
      "한국 야구를 대표하는 좌완투수 SSG 김광현은 지난달 28일 LG와 경기에서 2.2이닝을 던지며 7실점했다. 이 경기 다음날 김광현은 2군행을 통보받았다. 그럴만했다. 김광현은 이 경기를 포함해 5월 5경기 선발출전해 승리 없이 3패 평균자책점 7.20으로 부진했다. 김광현이 등판한 경기에서 SSG는 단 1승도 거두지 못했다. 구단은 김광현의 2군행에 대해 ‘휴식차원’이라고 설명했지만 김광현으로선 기분 좋을 리 없었다. 열흘 남짓한 시간 2군에서 몸과 마음을 추스른 김광현이 우리가 알던 모습으로 돌아왔다.\n",
      "김광현은 9일 부산 사직구장에서 열린 롯데와 경기에서 선발등판해 6이닝 무실점으로 호투했다. 이 경기로 5.70이던 김광현의 평균자책점은 4.92까지 내려갔다.\n",
      "SSG 타선은 롯데 토종 에이스 박세웅을 상대로 복귀한 김광현에게 힘을 실어줬다. SSG 타선은 2회에만 4점을 뽑았다. 2회 선두타자 추신수의 2루타와 김민식의 적시타로 선취점을 낸 SSG는 박지환의 안타와 최지훈, 박성한의 연속 2루타까지 이어 연달아 터지며 분위기를 장악했다. 5회 박지환이 2사 주자 없는 상황에서 우측 담장을 넘기는 프로데뷔 첫 홈런까지 터지며 김광현의 어깨를 가볍게 해줬다.\n",
      "김광현의 첫 위기는 5-0으로 앞선 4회 찾아왔다. 2사 3루에서 정훈을 상대한 김광현은 13구까지 가는 승부 끝에 헛스윙 삼진을 잡아내며 불을 껐다. 5회 김광현은 선두타자 박성욱을 볼넷으로 내보냈지만 다음타자 유강남을 상대로 병살타를 유도했고, 이어 윤동희를 3구 삼진으로 잡아냈다. 6회에도 김광현은 2안타를 내줬지만 실점 없이 이닝을 마친 뒤 마운드를 고효준에게 넘겼다.\n",
      "SSG는 7회 현재 롯데에 5-0으로 앞서고 있다.\n",
      "[ⓒ 세계일보 & Segye.com, 무단전재 및 재배포 금지]\n"
     ]
    }
   ],
   "source": [
    "import trafilatura\n",
    "url2='https://www.segye.com/newsView/20240609507462?OutUrl=naver'\n",
    "html2=trafilatura.fetch_url(url2)\n",
    "htmltext=trafilatura.extract(html2)\n",
    "print(htmltext)"
   ]
  },
  {
   "cell_type": "code",
   "execution_count": 16,
   "id": "608a8bf0",
   "metadata": {},
   "outputs": [
    {
     "name": "stdout",
     "output_type": "stream",
     "text": [
      "image1:https://search.pstatic.net/common/?src=http%3A%2F%2Fimgnews.naver.net%2Fimage%2F241%2F2023%2F07%2F27%2F0003290941_002_20230727161101313.jpg&type=a340\n",
      "image2:https://search.pstatic.net/common/?src=http%3A%2F%2Fimgnews.naver.net%2Fimage%2F076%2F2024%2F04%2F30%2F2024043001002302700316621_20240430190803422.jpg&type=a340\n"
     ]
    }
   ],
   "source": [
    "from selenium import webdriver\n",
    "from selenium.webdriver.common.by import By\n",
    "from selenium.webdriver.common.keys import Keys\n",
    "import time\n",
    "import requests\n",
    "\n",
    "driver2=webdriver.Chrome()\n",
    "\n",
    "url2=f'https://search.naver.com/search.naver?where=image&query=김광현'\n",
    "driver2.get(url2)\n",
    "time.sleep(3)\n",
    "\n",
    "image_links=driver2.find_elements(By.CSS_SELECTOR,\"._fe_image_tab_content_thumbnail_image\") \n",
    "\n",
    "for i,link in enumerate(image_links[:2]):\n",
    "    img_url=link.get_attribute(\"src\")\n",
    "    print(f\"image{i+1}:{img_url}\")\n",
    "    \n",
    "    with open(f\"김광현_{i+1}.jpg\",\"wb\") as f2:\n",
    "        f2.write(requests.get(img_url).content)\n",
    "driver2.quit()"
   ]
  },
  {
   "cell_type": "code",
   "execution_count": 5,
   "id": "baade547",
   "metadata": {},
   "outputs": [
    {
     "name": "stdout",
     "output_type": "stream",
     "text": [
      "미국 프로농구(NBA) 슈퍼스타 스테판 커리(29·골든스테이트 워리어스)가 27일 오전 서울 중구 장충체육관에서 열린 ‘언더아머-스테판 커리 라이브 인 서울' 행사에 참석하고 있다 (사진=노컷뉴스)\n",
      "미국프로농구(NBA) 골든스테이트 워리어스의 간판 스타 스테판 커리(29)는 현대 농구의 패러다임 변화를 이끈 주역이라는 평가를 받는 선수다.\n",
      "NBA와 국제농구연맹(FIBA) 주관 대회에서는 장신선수가 골밑에서 수비수를 등지고 공격하는 포스트업 공격 시도가 점점 줄어드는 추세다. 골밑과 가까워질수록 득점 확률은 높아지지만 밀집 지역을 커버하는 수비 전술도 빠르게 발전해왔다.\n",
      "지금은 코트를 넓게 쓰면서 외곽에서 2대2 공격 위주로 득점을 노리는 방식이 대세다. 외곽에서 휘젓다 보면 3점슛 기회가 자주 생긴다. 농구 역시 세이버 매트릭스가 발전하면서 3점슛 시도가 결코 효율이 떨어지지 않는다는 사실이 입증됐다.\n",
      "커리는 새로운 패러다임의 중심에 서 있는 선수다.\n",
      "NBA 해설위원으로 활동하는 케니 스미스는 스테판 커리를 두고 \"그는 덩크 대신 3점슛을 던지는 이 시대의 새로운 마이클 조던\"이라는 평가를 남기기도 했다.\n",
      "2009년 NBA에 데뷔한 스테판 커리는 2014-2015시즌 평균 23.8점, 7.7어시스트, 3점슛 성공률 44.3%를 올리며 자신의 첫 정규리그 MVP를 차지했다. 골든스테이트는 2015년 르브론 제임스가 뛴 클리블랜드 캐벌리어스를 꺾고 우승했다. 45년만의 우승이었다.\n",
      "2015-2016시즌은 '스테판 커리 신드롬'이 농구계를 강타했다. 스테판 커리는 상식을 파괴하는 수준의 3점슛을 선보이며 이 시대의 농구 아이콘으로 떠올랐다.\n",
      "스테판 커리는 2015년부터 슛 거리의 제한이 없는 경이로운 3점슛 퍼레이드를 펼치기 시작했다. 화려한 드리블과 볼핸들링, 빠른 슛 동작이 결합된 커리의 3점슛은 예술의 경지에 올랐다. 커리는 코트 중앙선을 넘어오는 순간부터 언제든지 슛을 던질 수 있다.\n",
      "NBA 중계방송사는 2015년 하프라인 부근에서의 3점슛 성공률을 계산, 공개하기 시작했다. 커리가 등장하기 전까지는 상상도 못할 일이었다.\n",
      "스테판 커리는 2015-2016시즌 평균 30.1점, 6.7어시스트, 3점슛 성공률 45.4%를 기록했다. 골든스테이트는 커리의 활약에 힘입어 73승9패를 기록, 마이클 조던의 시카고 불스가 1995-1996시즌 수립한 정규리그 최다승(72승10패) 기록을 뛰어넘었다.\n",
      "스테판 커리는 그해 NBA 역사상 최초로 투표 만장일치 MVP에 등극했다. 커리는 2015-2016시즌 무려 402개의 3점슛을 넣었다. 이전까지 한 시즌 300개 이상의 3점슛을 넣은 선수조차 없었다.\n",
      "스테판 커리의 인기는 상상을 초월한다. 21세기의 마이클 조던이라는 말도 나온다. 골든스테이트의 스티브 커 감독은 커리를 둘러싼 농구 팬들의 뜨거운 반응을 보고 커리 열풍은 과거 마이클 조던과 비교할만 하다고 말하기도 했다. 커 감독은 1990년대 시카고 불스의 멤버로서 조던 신드롬을 바로 곁에서 지켜본 인물이다.\n",
      "2016-2017시즌 NBA 우승으로 통산 2개의 우승 반지를 거머쥔 스테판 커리는 올해 7월 5년간 2억달러(약 2252억원)가 넘는 초대형 연장 계약을 맺었다. 커리는 2017-2018시즌부터 5년동안 연 평균 460억원이 넘는 엄청난 연봉을 받는다.\n",
      "스테판 커리는 농구 가족으로 더 유명하다. 동생 세스 커리는 댈러스 매버릭스 유니폼을 입고 있다. 세스 커리는 지난 시즌 평균 12.8점, 2.7어시스트를 기록하며 NBA 주전급 가드로 도약했다. 두 형제의 아버지 델 커리는 현역 시절 NBA 최정상급 슈터로 활약했다.\n",
      "스테판 커리는 최근 한국을 찾아 국내 농구 팬들과 만났다. 열정적이고 친절한 자세로 팬들의 호평을 받았다. 인기 TV 예능 프로그램 '무한도전'에 출연해 무한도전 멤버들과 이색적인 2대5 농구 대결을 펼치며 즐거움을 선사하기도 했다.\n"
     ]
    }
   ],
   "source": [
    "import trafilatura\n",
    "url2='https://www.nocutnews.co.kr/news/4826808'\n",
    "html2=trafilatura.fetch_url(url2)\n",
    "htmltext=trafilatura.extract(html2)\n",
    "print(htmltext)"
   ]
  },
  {
   "cell_type": "code",
   "execution_count": 17,
   "id": "4dbe2e71",
   "metadata": {},
   "outputs": [
    {
     "name": "stdout",
     "output_type": "stream",
     "text": [
      "image1:https://search.pstatic.net/common/?src=http%3A%2F%2Fblogfiles.naver.net%2FMjAyMjExMDhfOTgg%2FMDAxNjY3ODc0ODQ2NDAx.2b5TdE2MqvLE8HcnrKLxzZTORcj3XKYzjln7N4aYlVUg.b9i9EAskwVqDF0bKtfMzyhcSyMNIgvG_qATjfO-k_ZAg.JPEG.cgnara%2FFB%25A3%25DFIMG%25A3%25DF1667873964121.jpg&type=a340\n",
      "image2:https://search.pstatic.net/common/?src=http%3A%2F%2Fblogfiles.naver.net%2FMjAyMzA1MDJfNjYg%2FMDAxNjgyOTU0ODU5ODIz.wmtABY2NcBefcC3tZUw1AJFORXIjPeywS7Zjb3Mey-8g.AY39Rwxag9q0Rp4KO2qiYR3j_aovtNSwcDhwYDPlkbkg.JPEG.cgnara%2FFB%25A3%25DFIMG%25A3%25DF1682935094337.jpg&type=a340\n"
     ]
    }
   ],
   "source": [
    "from selenium import webdriver\n",
    "from selenium.webdriver.common.by import By\n",
    "from selenium.webdriver.common.keys import Keys\n",
    "import time\n",
    "import requests\n",
    "\n",
    "driver2=webdriver.Chrome()\n",
    "\n",
    "url2=f'https://search.naver.com/search.naver?where=image&query=스테판 커리'\n",
    "driver2.get(url2)\n",
    "time.sleep(3)\n",
    "\n",
    "image_links=driver2.find_elements(By.CSS_SELECTOR,\"._fe_image_tab_content_thumbnail_image\") \n",
    "\n",
    "for i,link in enumerate(image_links[:2]):\n",
    "    img_url=link.get_attribute(\"src\")\n",
    "    print(f\"image{i+1}:{img_url}\")\n",
    "    \n",
    "    with open(f\"스테판커리_{i+1}.jpg\",\"wb\") as f2:\n",
    "        f2.write(requests.get(img_url).content)\n",
    "driver2.quit()"
   ]
  }
 ],
 "metadata": {
  "kernelspec": {
   "display_name": "Python 3 (ipykernel)",
   "language": "python",
   "name": "python3"
  },
  "language_info": {
   "codemirror_mode": {
    "name": "ipython",
    "version": 3
   },
   "file_extension": ".py",
   "mimetype": "text/x-python",
   "name": "python",
   "nbconvert_exporter": "python",
   "pygments_lexer": "ipython3",
   "version": "3.9.12"
  }
 },
 "nbformat": 4,
 "nbformat_minor": 5
}
