{
 "cells": [
  {
   "cell_type": "code",
   "execution_count": 1,
   "id": "407969b7",
   "metadata": {},
   "outputs": [
    {
     "name": "stdout",
     "output_type": "stream",
     "text": [
      "image1:https://search.pstatic.net/common/?src=https%3A%2F%2Fpbs.twimg.com%2Fprofile_images%2F727778232246865920%2FEyec8FXf.jpg&type=a340\n",
      "image2:https://search.pstatic.net/common/?src=http%3A%2F%2Fblogfiles.naver.net%2FMjAyMzAxMDhfMTk0%2FMDAxNjczMTg4NDMzMTk0.E7j6o2bTVe_VKKnrCx5v6BWwQ1sBFGbO7nvkNi3Qimog.xd4AkQN_LEr9rZdZLBy7rc1bGeAkQ11llpLnzwN57fkg.PNG.adq2000%2Fimage.png&type=a340\n"
     ]
    }
   ],
   "source": [
    "from selenium import webdriver\n",
    "from selenium.webdriver.common.by import By\n",
    "from selenium.webdriver.common.keys import Keys\n",
    "import time\n",
    "import requests\n",
    "\n",
    "driver2=webdriver.Chrome()\n",
    "\n",
    "url2=f'https://search.naver.com/search.naver?where=image&query=이대호'\n",
    "driver2.get(url2)\n",
    "time.sleep(3)\n",
    "\n",
    "image_links=driver2.find_elements(By.CSS_SELECTOR,\"._fe_image_tab_content_thumbnail_image\") \n",
    "\n",
    "for i,link in enumerate(image_links[:2]):\n",
    "    img_url=link.get_attribute(\"src\")\n",
    "    print(f\"image{i+1}:{img_url}\")\n",
    "    \n",
    "    with open(f\"이대호_{i+1}.jpg\",\"wb\") as f2:\n",
    "        f2.write(requests.get(img_url).content)\n",
    "driver2.quit()"
   ]
  },
  {
   "cell_type": "code",
   "execution_count": 3,
   "id": "bd89d734",
   "metadata": {},
   "outputs": [
    {
     "name": "stdout",
     "output_type": "stream",
     "text": [
      "image1:https://search.pstatic.net/common/?src=http%3A%2F%2Fimgnews.naver.net%2Fimage%2F477%2F2024%2F06%2F08%2F0000494759_006_20240608145714308.jpg&type=a340\n",
      "image2:https://search.pstatic.net/common/?src=http%3A%2F%2Fimgnews.naver.net%2Fimage%2F448%2F2024%2F06%2F19%2F2024061990111_0_20240619152511512.jpg&type=a340\n"
     ]
    }
   ],
   "source": [
    "from selenium import webdriver\n",
    "from selenium.webdriver.common.by import By\n",
    "from selenium.webdriver.common.keys import Keys\n",
    "import time\n",
    "import requests\n",
    "\n",
    "driver2=webdriver.Chrome()\n",
    "\n",
    "url2=f'https://search.naver.com/search.naver?where=image&query=손흥민'\n",
    "driver2.get(url2)\n",
    "time.sleep(3)\n",
    "\n",
    "image_links=driver2.find_elements(By.CSS_SELECTOR,\"._fe_image_tab_content_thumbnail_image\") \n",
    "\n",
    "for i,link in enumerate(image_links[:2]):\n",
    "    img_url=link.get_attribute(\"src\")\n",
    "    print(f\"image{i+1}:{img_url}\")\n",
    "    \n",
    "    with open(f\"손흥민_{i+1}.jpg\",\"wb\") as f2:\n",
    "        f2.write(requests.get(img_url).content)\n",
    "driver2.quit()"
   ]
  },
  {
   "cell_type": "code",
   "execution_count": 4,
   "id": "b3206004",
   "metadata": {},
   "outputs": [
    {
     "name": "stdout",
     "output_type": "stream",
     "text": [
      "image1:https://search.pstatic.net/common/?src=https%3A%2F%2Fpbs.twimg.com%2Fprofile_images%2F1014322471749611520%2F_dimztrX.jpg&type=a340\n",
      "image2:https://search.pstatic.net/common/?src=http%3A%2F%2Fimgnews.naver.net%2Fimage%2F117%2F2024%2F06%2F08%2F0003839089_002_20240608061210128.jpg&type=a340\n"
     ]
    }
   ],
   "source": [
    "from selenium import webdriver\n",
    "from selenium.webdriver.common.by import By\n",
    "from selenium.webdriver.common.keys import Keys\n",
    "import time\n",
    "import requests\n",
    "\n",
    "driver2=webdriver.Chrome()\n",
    "\n",
    "url2=f'https://search.naver.com/search.naver?where=image&query=김연경'\n",
    "driver2.get(url2)\n",
    "time.sleep(3)\n",
    "\n",
    "image_links=driver2.find_elements(By.CSS_SELECTOR,\"._fe_image_tab_content_thumbnail_image\") \n",
    "\n",
    "for i,link in enumerate(image_links[:2]):\n",
    "    img_url=link.get_attribute(\"src\")\n",
    "    print(f\"image{i+1}:{img_url}\")\n",
    "    \n",
    "    with open(f\"김연경_{i+1}.jpg\",\"wb\") as f2:\n",
    "        f2.write(requests.get(img_url).content)\n",
    "driver2.quit()"
   ]
  },
  {
   "cell_type": "code",
   "execution_count": 5,
   "id": "77a93723",
   "metadata": {},
   "outputs": [
    {
     "name": "stdout",
     "output_type": "stream",
     "text": [
      "image1:https://search.pstatic.net/common/?src=http%3A%2F%2Fblogfiles.naver.net%2FMjAyNDA2MTlfMTc2%2FMDAxNzE4NzQ5ODg0OTYx.4QXOjeh7k2xb2tSlwqOhkcvdYOzwXPFPl997xT8g7y4g.O_4-B7_Z2UOnZy--7qX8Blv7FACV4jq3ZAwiIjM39-Eg.PNG%2F%25B9%25DA%25BC%25BC%25B8%25AE%25C0%25C7_%25B4%25AB%25B9%25B0%25B0%25FA_%25B2%25DE.png&type=a340\n",
      "image2:https://search.pstatic.net/common/?src=http%3A%2F%2Fblogfiles.naver.net%2FMjAyMzA2MDNfMjEz%2FMDAxNjg1Nzg0NDA2NDcz.p-ZTeW0maZwEeIcE1WSxkIBlO5zsGN7s-gkLEsYdCLcg.sg9RoY2M6mwk4y6SG0itFNt_NBdFupJS5LCClRbYF5Qg.JPEG.cwmylee%2F1685784405441.jpg&type=a340\n"
     ]
    }
   ],
   "source": [
    "from selenium import webdriver\n",
    "from selenium.webdriver.common.by import By\n",
    "from selenium.webdriver.common.keys import Keys\n",
    "import time\n",
    "import requests\n",
    "\n",
    "driver2=webdriver.Chrome()\n",
    "\n",
    "url2=f'https://search.naver.com/search.naver?where=image&query=박세리'\n",
    "driver2.get(url2)\n",
    "time.sleep(3)\n",
    "\n",
    "image_links=driver2.find_elements(By.CSS_SELECTOR,\"._fe_image_tab_content_thumbnail_image\") \n",
    "\n",
    "for i,link in enumerate(image_links[:2]):\n",
    "    img_url=link.get_attribute(\"src\")\n",
    "    print(f\"image{i+1}:{img_url}\")\n",
    "    \n",
    "    with open(f\"박세리_{i+1}.jpg\",\"wb\") as f2:\n",
    "        f2.write(requests.get(img_url).content)\n",
    "driver2.quit()"
   ]
  },
  {
   "cell_type": "code",
   "execution_count": 6,
   "id": "7cad113e",
   "metadata": {},
   "outputs": [
    {
     "name": "stdout",
     "output_type": "stream",
     "text": [
      "image1:https://search.pstatic.net/common/?src=http%3A%2F%2Fimgnews.naver.net%2Fimage%2F009%2F2023%2F02%2F15%2F0005088854_001_20230215150406039.jpg&type=a340\n",
      "image2:https://search.pstatic.net/common/?src=http%3A%2F%2Fimgnews.naver.net%2Fimage%2F009%2F2023%2F09%2F20%2F0005189226_001_20230920115603522.jpg&type=a340\n"
     ]
    }
   ],
   "source": [
    "from selenium import webdriver\n",
    "from selenium.webdriver.common.by import By\n",
    "from selenium.webdriver.common.keys import Keys\n",
    "import time\n",
    "import requests\n",
    "\n",
    "driver2=webdriver.Chrome()\n",
    "\n",
    "url2=f'https://search.naver.com/search.naver?where=image&query=윤성빈'\n",
    "driver2.get(url2)\n",
    "time.sleep(3)\n",
    "\n",
    "image_links=driver2.find_elements(By.CSS_SELECTOR,\"._fe_image_tab_content_thumbnail_image\") \n",
    "\n",
    "for i,link in enumerate(image_links[:2]):\n",
    "    img_url=link.get_attribute(\"src\")\n",
    "    print(f\"image{i+1}:{img_url}\")\n",
    "    \n",
    "    with open(f\"윤성빈_{i+1}.jpg\",\"wb\") as f2:\n",
    "        f2.write(requests.get(img_url).content)\n",
    "driver2.quit()"
   ]
  }
 ],
 "metadata": {
  "kernelspec": {
   "display_name": "Python 3 (ipykernel)",
   "language": "python",
   "name": "python3"
  },
  "language_info": {
   "codemirror_mode": {
    "name": "ipython",
    "version": 3
   },
   "file_extension": ".py",
   "mimetype": "text/x-python",
   "name": "python",
   "nbconvert_exporter": "python",
   "pygments_lexer": "ipython3",
   "version": "3.9.12"
  }
 },
 "nbformat": 4,
 "nbformat_minor": 5
}
